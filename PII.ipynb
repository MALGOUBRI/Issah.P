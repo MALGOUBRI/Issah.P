{
  "cells": [
    {
      "cell_type": "markdown",
      "metadata": {
        "id": "view-in-github",
        "colab_type": "text"
      },
      "source": [
        "<a href=\"https://colab.research.google.com/github/MALGOUBRI/Issah.P/blob/main/PII.ipynb\" target=\"_parent\"><img src=\"https://colab.research.google.com/assets/colab-badge.svg\" alt=\"Open In Colab\"/></a>"
      ]
    },
    {
      "cell_type": "markdown",
      "source": [
        "# **BERT & Regular Expression–Based PII Detection in MIMIC-III Notes**\n",
        "_Comprehensive pipeline integrating weak supervision, clustering, and transformer-based NER._"
      ],
      "metadata": {
        "id": "KCt0GTkU7767"
      }
    },
    {
      "cell_type": "markdown",
      "source": [
        "## **1. Library Imports and Environment Setup**\n",
        "Import required packages, set random seeds, and configure environment paths."
      ],
      "metadata": {
        "id": "aFPrBbtl8DLb"
      }
    },
    {
      "cell_type": "code",
      "source": [
        "# 1) Imports libraries\n",
        "import re\n",
        "import numpy as np\n",
        "import pandas as pd\n",
        "import matplotlib.pyplot as plt\n",
        "from sklearn.feature_extraction.text import TfidfVectorizer\n",
        "from sklearn.decomposition import TruncatedSVD\n",
        "from sklearn.preprocessing import normalize\n",
        "from sklearn.metrics import silhouette_score, davies_bouldin_score, precision_score, recall_score, f1_score\n",
        "import torch; torch.cuda.is_available()\n",
        "from sklearn.cluster import KMeans, DBSCAN"
      ],
      "metadata": {
        "id": "9074IKzU8Hlj"
      },
      "execution_count": 2,
      "outputs": []
    }
  ],
  "metadata": {
    "colab": {
      "toc_visible": true,
      "provenance": [],
      "include_colab_link": true
    },
    "kernelspec": {
      "display_name": "Python 3",
      "name": "python3"
    }
  },
  "nbformat": 4,
  "nbformat_minor": 0
}